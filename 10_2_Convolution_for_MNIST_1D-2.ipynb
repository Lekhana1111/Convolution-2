{
  "nbformat": 4,
  "nbformat_minor": 0,
  "metadata": {
    "colab": {
      "provenance": []
    },
    "kernelspec": {
      "name": "python3",
      "display_name": "Python 3"
    },
    "language_info": {
      "name": "python"
    }
  },
  "cells": [
    {
      "cell_type": "markdown",
      "metadata": {
        "id": "view-in-github"
      },
      "source": [
        "<a href=\"https://colab.research.google.com/github/udlbook/udlbook/blob/main/Notebooks/Chap10/10_2_Convolution_for_MNIST_1D.ipynb\" target=\"_parent\"><img src=\"https://colab.research.google.com/assets/colab-badge.svg\" alt=\"Open In Colab\"/></a>"
      ]
    },
    {
      "cell_type": "markdown",
      "source": [
        "# **Notebook 10.2: Convolution for MNIST-1D**\n",
        "\n",
        "This notebook investigates a 1D convolutional network for MNIST-1D as in figure 10.7 and 10.8a.\n",
        "\n",
        "Work through the cells below, running each cell in turn. In various places you will see the words \"TO DO\". Follow the instructions at these places and make predictions about what is going to happen or write code to complete the functions.\n",
        "\n",
        "Contact me at udlbookmail@gmail.com if you find any mistakes or have any suggestions.\n",
        "\n"
      ],
      "metadata": {
        "id": "t9vk9Elugvmi"
      }
    },
    {
      "cell_type": "code",
      "source": [
        "# Run this if you're in a Colab to install MNIST 1D repository\n",
        "!pip install git+https://github.com/greydanus/mnist1d"
      ],
      "metadata": {
        "id": "D5yLObtZCi9J",
        "colab": {
          "base_uri": "https://localhost:8080/"
        },
        "outputId": "f368d8eb-256d-473b-d41e-e6c3ed51a1ac"
      },
      "execution_count": 1,
      "outputs": [
        {
          "output_type": "stream",
          "name": "stdout",
          "text": [
            "Collecting git+https://github.com/greydanus/mnist1d\n",
            "  Cloning https://github.com/greydanus/mnist1d to /tmp/pip-req-build-1i5rvz_9\n",
            "  Running command git clone --filter=blob:none --quiet https://github.com/greydanus/mnist1d /tmp/pip-req-build-1i5rvz_9\n",
            "  Resolved https://github.com/greydanus/mnist1d to commit 7878d96082abd200c546a07a4101fa90b30fdf7e\n",
            "  Installing build dependencies ... \u001b[?25l\u001b[?25hdone\n",
            "  Getting requirements to build wheel ... \u001b[?25l\u001b[?25hdone\n",
            "  Preparing metadata (pyproject.toml) ... \u001b[?25l\u001b[?25hdone\n",
            "Requirement already satisfied: requests in /usr/local/lib/python3.10/dist-packages (from mnist1d==0.0.2.post16) (2.32.3)\n",
            "Requirement already satisfied: numpy in /usr/local/lib/python3.10/dist-packages (from mnist1d==0.0.2.post16) (1.26.4)\n",
            "Requirement already satisfied: matplotlib in /usr/local/lib/python3.10/dist-packages (from mnist1d==0.0.2.post16) (3.7.1)\n",
            "Requirement already satisfied: scipy in /usr/local/lib/python3.10/dist-packages (from mnist1d==0.0.2.post16) (1.13.1)\n",
            "Requirement already satisfied: contourpy>=1.0.1 in /usr/local/lib/python3.10/dist-packages (from matplotlib->mnist1d==0.0.2.post16) (1.3.0)\n",
            "Requirement already satisfied: cycler>=0.10 in /usr/local/lib/python3.10/dist-packages (from matplotlib->mnist1d==0.0.2.post16) (0.12.1)\n",
            "Requirement already satisfied: fonttools>=4.22.0 in /usr/local/lib/python3.10/dist-packages (from matplotlib->mnist1d==0.0.2.post16) (4.54.1)\n",
            "Requirement already satisfied: kiwisolver>=1.0.1 in /usr/local/lib/python3.10/dist-packages (from matplotlib->mnist1d==0.0.2.post16) (1.4.7)\n",
            "Requirement already satisfied: packaging>=20.0 in /usr/local/lib/python3.10/dist-packages (from matplotlib->mnist1d==0.0.2.post16) (24.1)\n",
            "Requirement already satisfied: pillow>=6.2.0 in /usr/local/lib/python3.10/dist-packages (from matplotlib->mnist1d==0.0.2.post16) (10.4.0)\n",
            "Requirement already satisfied: pyparsing>=2.3.1 in /usr/local/lib/python3.10/dist-packages (from matplotlib->mnist1d==0.0.2.post16) (3.2.0)\n",
            "Requirement already satisfied: python-dateutil>=2.7 in /usr/local/lib/python3.10/dist-packages (from matplotlib->mnist1d==0.0.2.post16) (2.8.2)\n",
            "Requirement already satisfied: charset-normalizer<4,>=2 in /usr/local/lib/python3.10/dist-packages (from requests->mnist1d==0.0.2.post16) (3.4.0)\n",
            "Requirement already satisfied: idna<4,>=2.5 in /usr/local/lib/python3.10/dist-packages (from requests->mnist1d==0.0.2.post16) (3.10)\n",
            "Requirement already satisfied: urllib3<3,>=1.21.1 in /usr/local/lib/python3.10/dist-packages (from requests->mnist1d==0.0.2.post16) (2.2.3)\n",
            "Requirement already satisfied: certifi>=2017.4.17 in /usr/local/lib/python3.10/dist-packages (from requests->mnist1d==0.0.2.post16) (2024.8.30)\n",
            "Requirement already satisfied: six>=1.5 in /usr/local/lib/python3.10/dist-packages (from python-dateutil>=2.7->matplotlib->mnist1d==0.0.2.post16) (1.16.0)\n",
            "Building wheels for collected packages: mnist1d\n",
            "  Building wheel for mnist1d (pyproject.toml) ... \u001b[?25l\u001b[?25hdone\n",
            "  Created wheel for mnist1d: filename=mnist1d-0.0.2.post16-py3-none-any.whl size=14624 sha256=e8c75021bad766683d34e4958f78109742272174e1cd6f5d4ea7a1be1d3fce7e\n",
            "  Stored in directory: /tmp/pip-ephem-wheel-cache-zwb8bcl5/wheels/41/95/55/45fcf7d38cfa97e35682da6c5017d4513729131326ce935371\n",
            "Successfully built mnist1d\n",
            "Installing collected packages: mnist1d\n",
            "Successfully installed mnist1d-0.0.2.post16\n"
          ]
        }
      ]
    },
    {
      "cell_type": "code",
      "source": [
        "import numpy as np\n",
        "import os\n",
        "import torch, torch.nn as nn\n",
        "from torch.utils.data import TensorDataset, DataLoader\n",
        "from torch.optim.lr_scheduler import StepLR\n",
        "import matplotlib.pyplot as plt\n",
        "import mnist1d\n",
        "import random"
      ],
      "metadata": {
        "id": "YrXWAH7sUWvU"
      },
      "execution_count": 2,
      "outputs": []
    },
    {
      "cell_type": "code",
      "source": [
        "args = mnist1d.data.get_dataset_args()\n",
        "data = mnist1d.data.get_dataset(args, path='./mnist1d_data.pkl', download=False, regenerate=False)\n",
        "\n",
        "# The training and test input and outputs are in\n",
        "# data['x'], data['y'], data['x_test'], and data['y_test']\n",
        "print(\"Examples in training set: {}\".format(len(data['y'])))\n",
        "print(\"Examples in test set: {}\".format(len(data['y_test'])))\n",
        "print(\"Length of each example: {}\".format(data['x'].shape[-1]))"
      ],
      "metadata": {
        "id": "twI72ZCrCt5z",
        "colab": {
          "base_uri": "https://localhost:8080/"
        },
        "outputId": "341409a4-eb9b-4a32-93dd-c2aa04d620c6"
      },
      "execution_count": 3,
      "outputs": [
        {
          "output_type": "stream",
          "name": "stdout",
          "text": [
            "Did or could not load data from ./mnist1d_data.pkl. Rebuilding dataset...\n",
            "Examples in training set: 4000\n",
            "Examples in test set: 1000\n",
            "Length of each example: 40\n"
          ]
        }
      ]
    },
    {
      "cell_type": "code",
      "source": [
        "# Load in the data\n",
        "train_data_x = data['x'].transpose()\n",
        "train_data_y = data['y']\n",
        "val_data_x = data['x_test'].transpose()\n",
        "val_data_y = data['y_test']\n",
        "# Print out sizes\n",
        "print(\"Train data: %d examples (columns), each of which has %d dimensions (rows)\"%((train_data_x.shape[1],train_data_x.shape[0])))\n",
        "print(\"Validation data: %d examples (columns), each of which has %d dimensions (rows)\"%((val_data_x.shape[1],val_data_x.shape[0])))"
      ],
      "metadata": {
        "id": "8bKADvLHbiV5",
        "colab": {
          "base_uri": "https://localhost:8080/"
        },
        "outputId": "702fef6d-6f2e-43da-bee2-f03f083209ad"
      },
      "execution_count": 4,
      "outputs": [
        {
          "output_type": "stream",
          "name": "stdout",
          "text": [
            "Train data: 4000 examples (columns), each of which has 40 dimensions (rows)\n",
            "Validation data: 1000 examples (columns), each of which has 40 dimensions (rows)\n"
          ]
        }
      ]
    },
    {
      "cell_type": "markdown",
      "source": [
        "Define the network"
      ],
      "metadata": {
        "id": "_sFvRDGrl4qe"
      }
    },
    {
      "cell_type": "code",
      "source": [
        "# There are 40 input dimensions and 10 output dimensions for this data\n",
        "# The inputs correspond to the 40 offsets in the MNIST1D template.\n",
        "D_i = 40\n",
        "# The outputs correspond to the 10 digits\n",
        "D_o = 10\n",
        "\n",
        "\n",
        "# TODO Create a model with the following layers\n",
        "model = nn.Sequential(\n",
        "    nn.Conv1d(in_channels=1, out_channels=15, kernel_size=3, stride=2, padding='valid'),  # Input: length 40, channels: 1 -> Output: length 19, channels: 15\n",
        "    nn.ReLU(),\n",
        "    nn.Conv1d(in_channels=15, out_channels=15, kernel_size=3, stride=2, padding='valid'),  # Input: length 19, channels: 15 -> Output: length 9, channels: 15\n",
        "    nn.ReLU(),\n",
        "    nn.Conv1d(in_channels=15, out_channels=15, kernel_size=3, stride=2, padding='valid'),  # Input: length 9, channels: 15 -> Output: length 4, channels: 15\n",
        "    nn.ReLU(),\n",
        "    nn.Flatten(),  # Flatten the output to (batch_size, 60)\n",
        "    nn.Linear(60, 10)  # Input size: 60 (4 * 15), Output size: 10 (for the digits)\n",
        ")\n",
        "\n",
        "\n",
        "\n"
      ],
      "metadata": {
        "id": "FslroPJJffrh"
      },
      "execution_count": 10,
      "outputs": []
    },
    {
      "cell_type": "code",
      "source": [
        "# He initialization of weights\n",
        "def weights_init(layer_in):\n",
        "  if isinstance(layer_in, nn.Linear):\n",
        "    nn.init.kaiming_uniform_(layer_in.weight)\n",
        "    layer_in.bias.data.fill_(0.0)"
      ],
      "metadata": {
        "id": "YgLaex1pfhqz"
      },
      "execution_count": 11,
      "outputs": []
    },
    {
      "cell_type": "code",
      "source": [
        "# choose cross entropy loss function (equation 5.24 in the loss notes)\n",
        "loss_function = nn.CrossEntropyLoss()\n",
        "# construct SGD optimizer and initialize learning rate and momentum\n",
        "optimizer = torch.optim.SGD(model.parameters(), lr = 0.05, momentum=0.9)\n",
        "# object that decreases learning rate by half every 20 epochs\n",
        "scheduler = StepLR(optimizer, step_size=20, gamma=0.5)\n",
        "# create 100 dummy data points and store in data loader class\n",
        "x_train = torch.tensor(train_data_x.transpose().astype('float32'))\n",
        "y_train = torch.tensor(train_data_y.astype('long')).long()\n",
        "x_val= torch.tensor(val_data_x.transpose().astype('float32'))\n",
        "y_val = torch.tensor(val_data_y.astype('long')).long()\n",
        "\n",
        "# load the data into a class that creates the batches\n",
        "data_loader = DataLoader(TensorDataset(x_train,y_train), batch_size=100, shuffle=True, worker_init_fn=np.random.seed(1))\n",
        "\n",
        "# Initialize model weights\n",
        "model.apply(weights_init)\n",
        "\n",
        "# loop over the dataset n_epoch times\n",
        "n_epoch = 100\n",
        "# store the loss and the % correct at each epoch\n",
        "losses_train = np.zeros((n_epoch))\n",
        "errors_train = np.zeros((n_epoch))\n",
        "losses_val = np.zeros((n_epoch))\n",
        "errors_val = np.zeros((n_epoch))\n",
        "\n",
        "for epoch in range(n_epoch):\n",
        "  # loop over batches\n",
        "  for i, data in enumerate(data_loader):\n",
        "    # retrieve inputs and labels for this batch\n",
        "    x_batch, y_batch = data\n",
        "    # zero the parameter gradients\n",
        "    optimizer.zero_grad()\n",
        "    # forward pass -- calculate model output\n",
        "    pred = model(x_batch[:,None,:])\n",
        "    # compute the loss\n",
        "    loss = loss_function(pred, y_batch)\n",
        "    # backward pass\n",
        "    loss.backward()\n",
        "    # SGD update\n",
        "    optimizer.step()\n",
        "\n",
        "  # Run whole dataset to get statistics -- normally wouldn't do this\n",
        "  pred_train = model(x_train[:,None,:])\n",
        "  pred_val = model(x_val[:,None,:])\n",
        "  _, predicted_train_class = torch.max(pred_train.data, 1)\n",
        "  _, predicted_val_class = torch.max(pred_val.data, 1)\n",
        "  errors_train[epoch] = 100 - 100 * (predicted_train_class == y_train).float().sum() / len(y_train)\n",
        "  errors_val[epoch]= 100 - 100 * (predicted_val_class == y_val).float().sum() / len(y_val)\n",
        "  losses_train[epoch] = loss_function(pred_train, y_train).item()\n",
        "  losses_val[epoch]= loss_function(pred_val, y_val).item()\n",
        "  print(f'Epoch {epoch:5d}, train loss {losses_train[epoch]:.6f}, train error {errors_train[epoch]:3.2f},  val loss {losses_val[epoch]:.6f}, percent error {errors_val[epoch]:3.2f}')\n",
        "\n",
        "  # tell scheduler to consider updating learning rate\n",
        "  scheduler.step()\n",
        "\n",
        "# Plot the results\n",
        "fig, ax = plt.subplots()\n",
        "ax.plot(errors_train,'r-',label='train')\n",
        "ax.plot(errors_val,'b-',label='validation')\n",
        "ax.set_ylim(0,100); ax.set_xlim(0,n_epoch)\n",
        "ax.set_xlabel('Epoch'); ax.set_ylabel('Error')\n",
        "ax.set_title('Part I: Validation Result %3.2f'%(errors_val[-1]))\n",
        "ax.legend()\n",
        "plt.show()"
      ],
      "metadata": {
        "id": "NYw8I_3mmX5c",
        "colab": {
          "base_uri": "https://localhost:8080/",
          "height": 1000
        },
        "outputId": "7b130a78-89f3-456a-b4a1-9b2be2d98ff6"
      },
      "execution_count": 12,
      "outputs": [
        {
          "output_type": "stream",
          "name": "stdout",
          "text": [
            "Epoch     0, train loss 2.132869, train error 82.35,  val loss 2.133080, percent error 83.10\n",
            "Epoch     1, train loss 1.680357, train error 66.68,  val loss 1.701978, percent error 70.30\n",
            "Epoch     2, train loss 1.440409, train error 58.17,  val loss 1.462114, percent error 59.40\n",
            "Epoch     3, train loss 1.290230, train error 52.83,  val loss 1.283360, percent error 54.60\n",
            "Epoch     4, train loss 1.289864, train error 53.47,  val loss 1.266669, percent error 51.90\n",
            "Epoch     5, train loss 1.180059, train error 47.92,  val loss 1.189273, percent error 49.80\n",
            "Epoch     6, train loss 1.080479, train error 43.65,  val loss 1.099441, percent error 47.70\n",
            "Epoch     7, train loss 1.035356, train error 42.25,  val loss 1.064590, percent error 43.40\n",
            "Epoch     8, train loss 0.944875, train error 37.28,  val loss 0.990986, percent error 39.60\n",
            "Epoch     9, train loss 0.872357, train error 34.90,  val loss 0.916692, percent error 37.70\n",
            "Epoch    10, train loss 0.786638, train error 31.70,  val loss 0.857152, percent error 36.00\n",
            "Epoch    11, train loss 0.745002, train error 28.95,  val loss 0.855554, percent error 34.30\n",
            "Epoch    12, train loss 0.634108, train error 26.15,  val loss 0.711366, percent error 28.40\n",
            "Epoch    13, train loss 0.572493, train error 22.05,  val loss 0.677188, percent error 25.70\n",
            "Epoch    14, train loss 0.525635, train error 19.82,  val loss 0.635952, percent error 23.80\n",
            "Epoch    15, train loss 0.465466, train error 17.12,  val loss 0.554092, percent error 20.10\n",
            "Epoch    16, train loss 0.439029, train error 16.18,  val loss 0.554126, percent error 19.50\n",
            "Epoch    17, train loss 0.394766, train error 15.12,  val loss 0.504208, percent error 19.30\n",
            "Epoch    18, train loss 0.368791, train error 13.20,  val loss 0.488514, percent error 16.80\n",
            "Epoch    19, train loss 0.309860, train error 10.47,  val loss 0.437302, percent error 14.30\n",
            "Epoch    20, train loss 0.243728, train error 8.55,  val loss 0.365891, percent error 12.80\n",
            "Epoch    21, train loss 0.232440, train error 8.12,  val loss 0.378759, percent error 12.20\n",
            "Epoch    22, train loss 0.223584, train error 8.30,  val loss 0.378710, percent error 14.10\n",
            "Epoch    23, train loss 0.202461, train error 7.25,  val loss 0.375765, percent error 12.40\n",
            "Epoch    24, train loss 0.197166, train error 6.90,  val loss 0.385462, percent error 11.90\n",
            "Epoch    25, train loss 0.169318, train error 5.57,  val loss 0.326206, percent error 11.00\n",
            "Epoch    26, train loss 0.194899, train error 6.95,  val loss 0.380997, percent error 12.30\n",
            "Epoch    27, train loss 0.164796, train error 5.62,  val loss 0.347013, percent error 11.40\n",
            "Epoch    28, train loss 0.147174, train error 4.68,  val loss 0.318013, percent error 9.60\n",
            "Epoch    29, train loss 0.167918, train error 5.82,  val loss 0.391852, percent error 11.90\n",
            "Epoch    30, train loss 0.140195, train error 4.62,  val loss 0.341091, percent error 9.90\n",
            "Epoch    31, train loss 0.128642, train error 4.25,  val loss 0.311731, percent error 9.90\n",
            "Epoch    32, train loss 0.126283, train error 3.97,  val loss 0.318034, percent error 9.80\n",
            "Epoch    33, train loss 0.113972, train error 3.55,  val loss 0.329881, percent error 10.30\n",
            "Epoch    34, train loss 0.104032, train error 2.97,  val loss 0.327451, percent error 9.10\n",
            "Epoch    35, train loss 0.124226, train error 4.50,  val loss 0.363361, percent error 10.10\n",
            "Epoch    36, train loss 0.118046, train error 3.93,  val loss 0.351544, percent error 9.50\n",
            "Epoch    37, train loss 0.112293, train error 3.47,  val loss 0.329034, percent error 9.70\n",
            "Epoch    38, train loss 0.100799, train error 3.40,  val loss 0.347730, percent error 10.10\n",
            "Epoch    39, train loss 0.082590, train error 2.20,  val loss 0.336723, percent error 9.30\n",
            "Epoch    40, train loss 0.083369, train error 2.45,  val loss 0.330031, percent error 10.10\n",
            "Epoch    41, train loss 0.074750, train error 2.22,  val loss 0.342345, percent error 9.30\n",
            "Epoch    42, train loss 0.072444, train error 2.15,  val loss 0.330079, percent error 9.10\n",
            "Epoch    43, train loss 0.073658, train error 2.12,  val loss 0.346078, percent error 9.20\n",
            "Epoch    44, train loss 0.067092, train error 2.05,  val loss 0.340115, percent error 10.00\n",
            "Epoch    45, train loss 0.061529, train error 1.53,  val loss 0.333444, percent error 9.10\n",
            "Epoch    46, train loss 0.067058, train error 1.95,  val loss 0.355524, percent error 9.80\n",
            "Epoch    47, train loss 0.057149, train error 1.32,  val loss 0.330796, percent error 9.70\n",
            "Epoch    48, train loss 0.061470, train error 1.65,  val loss 0.338149, percent error 10.10\n",
            "Epoch    49, train loss 0.053814, train error 1.15,  val loss 0.338270, percent error 8.80\n",
            "Epoch    50, train loss 0.062456, train error 1.85,  val loss 0.362578, percent error 9.30\n",
            "Epoch    51, train loss 0.053594, train error 1.35,  val loss 0.334514, percent error 9.00\n",
            "Epoch    52, train loss 0.050811, train error 1.18,  val loss 0.332633, percent error 9.20\n",
            "Epoch    53, train loss 0.053142, train error 1.22,  val loss 0.356064, percent error 9.10\n",
            "Epoch    54, train loss 0.046170, train error 1.00,  val loss 0.338851, percent error 9.20\n",
            "Epoch    55, train loss 0.048012, train error 1.20,  val loss 0.361198, percent error 9.80\n",
            "Epoch    56, train loss 0.045085, train error 1.03,  val loss 0.361321, percent error 9.40\n",
            "Epoch    57, train loss 0.047802, train error 1.20,  val loss 0.369376, percent error 9.30\n",
            "Epoch    58, train loss 0.047551, train error 1.18,  val loss 0.355477, percent error 9.70\n",
            "Epoch    59, train loss 0.051559, train error 1.53,  val loss 0.355017, percent error 9.20\n",
            "Epoch    60, train loss 0.037589, train error 0.70,  val loss 0.351861, percent error 9.30\n",
            "Epoch    61, train loss 0.037293, train error 0.72,  val loss 0.353102, percent error 9.00\n",
            "Epoch    62, train loss 0.037036, train error 0.68,  val loss 0.356597, percent error 9.30\n",
            "Epoch    63, train loss 0.036030, train error 0.62,  val loss 0.359657, percent error 9.40\n",
            "Epoch    64, train loss 0.036004, train error 0.68,  val loss 0.349686, percent error 9.00\n",
            "Epoch    65, train loss 0.035236, train error 0.62,  val loss 0.359058, percent error 9.30\n",
            "Epoch    66, train loss 0.036304, train error 0.65,  val loss 0.370156, percent error 9.20\n",
            "Epoch    67, train loss 0.034076, train error 0.57,  val loss 0.358473, percent error 8.90\n",
            "Epoch    68, train loss 0.034332, train error 0.65,  val loss 0.358567, percent error 8.80\n",
            "Epoch    69, train loss 0.033428, train error 0.60,  val loss 0.361044, percent error 9.20\n",
            "Epoch    70, train loss 0.037163, train error 0.72,  val loss 0.359574, percent error 9.20\n",
            "Epoch    71, train loss 0.032960, train error 0.53,  val loss 0.371358, percent error 9.10\n",
            "Epoch    72, train loss 0.031269, train error 0.53,  val loss 0.367007, percent error 9.30\n",
            "Epoch    73, train loss 0.032284, train error 0.55,  val loss 0.373407, percent error 9.10\n",
            "Epoch    74, train loss 0.031811, train error 0.53,  val loss 0.370671, percent error 8.90\n",
            "Epoch    75, train loss 0.031233, train error 0.47,  val loss 0.376056, percent error 8.90\n",
            "Epoch    76, train loss 0.030567, train error 0.45,  val loss 0.364342, percent error 9.10\n",
            "Epoch    77, train loss 0.029701, train error 0.47,  val loss 0.368802, percent error 9.10\n",
            "Epoch    78, train loss 0.030314, train error 0.53,  val loss 0.375306, percent error 8.90\n",
            "Epoch    79, train loss 0.030158, train error 0.45,  val loss 0.376207, percent error 9.70\n",
            "Epoch    80, train loss 0.028528, train error 0.43,  val loss 0.369710, percent error 9.60\n",
            "Epoch    81, train loss 0.027953, train error 0.45,  val loss 0.375857, percent error 9.30\n",
            "Epoch    82, train loss 0.027908, train error 0.40,  val loss 0.373050, percent error 9.50\n",
            "Epoch    83, train loss 0.027673, train error 0.38,  val loss 0.374330, percent error 9.30\n",
            "Epoch    84, train loss 0.027362, train error 0.43,  val loss 0.373795, percent error 9.10\n",
            "Epoch    85, train loss 0.027354, train error 0.35,  val loss 0.374681, percent error 9.30\n",
            "Epoch    86, train loss 0.026962, train error 0.38,  val loss 0.375184, percent error 9.30\n",
            "Epoch    87, train loss 0.027305, train error 0.35,  val loss 0.383095, percent error 9.20\n",
            "Epoch    88, train loss 0.026671, train error 0.35,  val loss 0.379378, percent error 9.50\n",
            "Epoch    89, train loss 0.027253, train error 0.30,  val loss 0.379269, percent error 9.30\n",
            "Epoch    90, train loss 0.027002, train error 0.35,  val loss 0.379458, percent error 8.80\n",
            "Epoch    91, train loss 0.026044, train error 0.30,  val loss 0.378960, percent error 9.30\n",
            "Epoch    92, train loss 0.025927, train error 0.38,  val loss 0.379194, percent error 9.20\n",
            "Epoch    93, train loss 0.026117, train error 0.35,  val loss 0.383519, percent error 9.20\n",
            "Epoch    94, train loss 0.025763, train error 0.38,  val loss 0.377171, percent error 9.30\n",
            "Epoch    95, train loss 0.025444, train error 0.28,  val loss 0.382253, percent error 9.30\n",
            "Epoch    96, train loss 0.025514, train error 0.30,  val loss 0.383149, percent error 9.40\n",
            "Epoch    97, train loss 0.025523, train error 0.32,  val loss 0.381938, percent error 9.50\n",
            "Epoch    98, train loss 0.024967, train error 0.30,  val loss 0.384994, percent error 9.40\n",
            "Epoch    99, train loss 0.024990, train error 0.28,  val loss 0.384443, percent error 9.30\n"
          ]
        },
        {
          "output_type": "display_data",
          "data": {
            "text/plain": [
              "<Figure size 640x480 with 1 Axes>"
            ],
            "image/png": "[encoded data removed]"
          },
          "metadata": {}
        }
      ]
    }
  ]
}